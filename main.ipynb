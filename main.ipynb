{
 "cells": [
  {
   "cell_type": "code",
   "id": "initial_id",
   "metadata": {
    "collapsed": true,
    "ExecuteTime": {
     "end_time": "2024-05-29T20:25:47.856461Z",
     "start_time": "2024-05-29T20:25:46.423837Z"
    }
   },
   "source": [
    "from models.image_classification.vanilla_vit import ViT\n",
    "from models.image_classification.swin_transformer import SwinTransformer\n",
    "from models.image_classification.deit import DeiT\n",
    "\n",
    "# Loading Data\n",
    "from utils.load_data import get_train_test_loaders\n",
    "from utils.args import get_args\n",
    "\n",
    "# PyTorch\n",
    "import torch\n",
    "import torch.nn as nn\n",
    "\n",
    "# Visualization\n",
    "from utils.visualization import plot_patches\n",
    "from utils.visualization import plot_attention_maps\n",
    "import matplotlib.pyplot as plt\n",
    "import seaborn as sns"
   ],
   "execution_count": 1,
   "outputs": []
  },
  {
   "metadata": {
    "ExecuteTime": {
     "end_time": "2024-05-29T20:25:48.978912Z",
     "start_time": "2024-05-29T20:25:47.857335Z"
    }
   },
   "cell_type": "code",
   "source": [
    "args = get_args('deit_tinydistil_cifar100')\n",
    "\n",
    "train_loader, val_loader, test_loader = get_train_test_loaders(dataset_name=\"cifar100\", batch_size=256,\n",
    "                                                               val_split=0.2, num_workers=4)\n",
    "\n",
    "deit = DeiT(image_size=args[\"image_size\"], patch_size=args[\"patch_size\"], num_layers=args[\"num_layers\"],\n",
    "            num_heads=args[\"num_heads\"], hidden_dim=args[\"embed_dim\"], mlp_ratio=args[\"mlp_ratio\"],\n",
    "            dropout=args[\"dropout\"], attention_dropout=args[\"attention_dropout\"],\n",
    "            num_classes=args[\"num_classes\"])"
   ],
   "id": "498033cb286307d8",
   "execution_count": 2,
   "outputs": []
  },
  {
   "metadata": {},
   "cell_type": "code",
   "execution_count": null,
   "source": "",
   "id": "5bfe13d6a1d1414a",
   "outputs": []
  },
  {
   "metadata": {},
   "cell_type": "markdown",
   "source": "# Swin Transformer",
   "id": "3dc95be8394a80c8"
  },
  {
   "metadata": {
    "ExecuteTime": {
     "end_time": "2024-05-27T22:56:47.975681Z",
     "start_time": "2024-05-27T22:56:46.907899Z"
    }
   },
   "cell_type": "code",
   "source": "train_loader, val_loader, test_loader = get_train_test_loaders(dataset_name=\"cifar100\", batch_size=256, val_split=0.2, num_workers=4)",
   "id": "12a1aa9f007f4e81",
   "execution_count": 3,
   "outputs": []
  },
  {
   "metadata": {
    "ExecuteTime": {
     "start_time": "2024-05-27T22:56:47.976214Z"
    }
   },
   "cell_type": "code",
   "source": [
    "args = get_args(\"swin_tiny_cifar100\")\n",
    "swin_tiny = SwinTransformer(patch_size=args[\"patch_size\"], embed_dim=args[\"embed_dim\"], depths=args[\"depths\"], \n",
    "                            num_heads=args[\"num_heads\"], window_size=args[\"window_size\"], mlp_ratio=args[\"mlp_ratio\"],\n",
    "                            dropout=args[\"dropout\"], attention_dropout=args[\"attention_dropout\"], stochastic_depth_prob=args[\"stochastic_depth_prob\"], num_classes=args[\"num_classes\"])\n",
    "\n",
    "# swin_tiny.to(\"cpu\")\n",
    "# for images, labels in train_loader:\n",
    "#     images = images.to(\"cpu\")\n",
    "#     labels = labels.to(\"cpu\")\n",
    "#     outputs = swin_tiny(images)\n",
    "#     break\n",
    "\n",
    "swin_tiny.to(\"cuda\")\n",
    "metrics = swin_tiny.train_model(swin_tiny, train_loader, test_loader, 50, val_loader)"
   ],
   "id": "25fc6ceb207ef6b6",
   "execution_count": null,
   "outputs": []
  },
  {
   "metadata": {},
   "cell_type": "code",
   "source": "",
   "id": "8e070d604fc07bc4",
   "execution_count": null,
   "outputs": []
  },
  {
   "metadata": {},
   "cell_type": "markdown",
   "source": "# Vanilla ViT",
   "id": "9bb7f592e3e93c3e"
  },
  {
   "metadata": {},
   "cell_type": "code",
   "source": "train_loader, val_loader, test_loader = get_train_test_loaders(dataset_name=\"cifar100\", batch_size=256, val_split=0.2, num_workers=4)",
   "id": "db7ceb9c322bd4d6",
   "execution_count": null,
   "outputs": []
  },
  {
   "metadata": {},
   "cell_type": "code",
   "source": [
    "args = get_args(\"vit_tiny_cifar100\")\n",
    "vanilla_vit = ViT(image_size=args[\"image_size\"], patch_size=args[\"patch_size\"], num_layers=args[\"num_layers\"], \n",
    "                  num_heads=args[\"num_heads\"], hidden_dim=args[\"hidden_dim\"], mlp_dim=args[\"mlp_dim\"], \n",
    "                  dropout=args[\"dropout\"], attention_dropout=args[\"attention_dropout\"], num_classes=args[\"num_classes\"])\n",
    "\n",
    "# vanilla_vit.to(\"cpu\")\n",
    "# for images, labels in train_loader:\n",
    "#     images = images.to(\"cpu\")\n",
    "#     labels = labels.to(\"cpu\")\n",
    "#     output = vanilla_vit(images)\n",
    "#     break\n",
    "\n",
    "vanilla_vit.to(\"cuda\")\n",
    "metrics = vanilla_vit.train_model(vanilla_vit, train_loader, test_loader, 50, val_loader)"
   ],
   "id": "7ddfc79dd2917555",
   "execution_count": null,
   "outputs": []
  },
  {
   "metadata": {},
   "cell_type": "code",
   "source": "",
   "id": "5da5188d1ce7f5d7",
   "execution_count": null,
   "outputs": []
  }
 ],
 "metadata": {
  "kernelspec": {
   "display_name": "Python 3 (ipykernel)",
   "language": "python",
   "name": "python3"
  },
  "language_info": {
   "codemirror_mode": {
    "name": "ipython",
    "version": 2
   },
   "file_extension": ".py",
   "mimetype": "text/x-python",
   "name": "python",
   "nbconvert_exporter": "python",
   "pygments_lexer": "ipython2",
   "version": "2.7.6"
  }
 },
 "nbformat": 4,
 "nbformat_minor": 5
}
