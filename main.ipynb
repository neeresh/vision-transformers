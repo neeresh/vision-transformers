{
 "cells": [
  {
   "cell_type": "code",
   "id": "initial_id",
   "metadata": {
    "collapsed": true,
    "ExecuteTime": {
     "end_time": "2024-05-26T20:25:17.501418Z",
     "start_time": "2024-05-26T20:25:17.500019Z"
    }
   },
   "source": [
    ""
   ],
   "outputs": [],
   "execution_count": null
  },
  {
   "metadata": {
    "ExecuteTime": {
     "end_time": "2024-05-26T20:25:19.504842Z",
     "start_time": "2024-05-26T20:25:19.502998Z"
    }
   },
   "cell_type": "code",
   "source": "",
   "id": "4d3912682bd4585c",
   "outputs": [],
   "execution_count": null
  },
  {
   "metadata": {
    "ExecuteTime": {
     "end_time": "2024-05-26T20:25:19.639519Z",
     "start_time": "2024-05-26T20:25:19.637976Z"
    }
   },
   "cell_type": "code",
   "source": "",
   "id": "db7ceb9c322bd4d6",
   "outputs": [],
   "execution_count": null
  },
  {
   "metadata": {
    "ExecuteTime": {
     "end_time": "2024-05-26T20:25:19.769686Z",
     "start_time": "2024-05-26T20:25:19.768184Z"
    }
   },
   "cell_type": "code",
   "source": "",
   "id": "7ddfc79dd2917555",
   "outputs": [],
   "execution_count": null
  },
  {
   "metadata": {
    "ExecuteTime": {
     "end_time": "2024-05-26T20:25:23.060337Z",
     "start_time": "2024-05-26T20:25:23.058663Z"
    }
   },
   "cell_type": "code",
   "source": "",
   "id": "74de83b70b45386b",
   "outputs": [],
   "execution_count": null
  },
  {
   "metadata": {
    "ExecuteTime": {
     "end_time": "2024-05-26T20:25:17.520497Z",
     "start_time": "2024-05-26T20:25:17.519266Z"
    }
   },
   "cell_type": "code",
   "source": "",
   "id": "899d7b0d1ee0867c",
   "outputs": [],
   "execution_count": null
  },
  {
   "metadata": {
    "ExecuteTime": {
     "end_time": "2024-05-26T20:25:17.523586Z",
     "start_time": "2024-05-26T20:25:17.521945Z"
    }
   },
   "cell_type": "code",
   "source": "",
   "id": "8b8f46ac8f0af619",
   "outputs": [],
   "execution_count": null
  },
  {
   "metadata": {
    "ExecuteTime": {
     "end_time": "2024-05-26T20:25:17.525828Z",
     "start_time": "2024-05-26T20:25:17.524619Z"
    }
   },
   "cell_type": "code",
   "source": "",
   "id": "8c4ff1203e0e1351",
   "outputs": [],
   "execution_count": null
  },
  {
   "metadata": {
    "ExecuteTime": {
     "end_time": "2024-05-26T20:25:17.528540Z",
     "start_time": "2024-05-26T20:25:17.526647Z"
    }
   },
   "cell_type": "code",
   "source": "",
   "id": "352c0ef4925ebaf8",
   "outputs": [],
   "execution_count": null
  },
  {
   "metadata": {
    "ExecuteTime": {
     "end_time": "2024-05-26T20:25:17.531271Z",
     "start_time": "2024-05-26T20:25:17.529847Z"
    }
   },
   "cell_type": "code",
   "source": "",
   "id": "4da77f244d1e2ba",
   "outputs": [],
   "execution_count": null
  },
  {
   "metadata": {
    "ExecuteTime": {
     "end_time": "2024-05-26T20:25:17.533282Z",
     "start_time": "2024-05-26T20:25:17.531946Z"
    }
   },
   "cell_type": "code",
   "source": "",
   "id": "7a74988fd952dcfa",
   "outputs": [],
   "execution_count": null
  },
  {
   "metadata": {
    "ExecuteTime": {
     "end_time": "2024-05-26T20:25:17.535568Z",
     "start_time": "2024-05-26T20:25:17.534240Z"
    }
   },
   "cell_type": "code",
   "source": "",
   "id": "1b6d5099f50c8de2",
   "outputs": [],
   "execution_count": null
  },
  {
   "metadata": {},
   "cell_type": "code",
   "outputs": [],
   "execution_count": null,
   "source": "",
   "id": "b8622136fb3022b0"
  }
 ],
 "metadata": {
  "kernelspec": {
   "display_name": "Python 3",
   "language": "python",
   "name": "python3"
  },
  "language_info": {
   "codemirror_mode": {
    "name": "ipython",
    "version": 2
   },
   "file_extension": ".py",
   "mimetype": "text/x-python",
   "name": "python",
   "nbconvert_exporter": "python",
   "pygments_lexer": "ipython2",
   "version": "2.7.6"
  }
 },
 "nbformat": 4,
 "nbformat_minor": 5
}
