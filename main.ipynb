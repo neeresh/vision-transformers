{
 "cells": [
  {
   "cell_type": "code",
   "id": "initial_id",
   "metadata": {
    "collapsed": true,
    "ExecuteTime": {
     "end_time": "2024-05-27T22:56:46.893130Z",
     "start_time": "2024-05-27T22:56:45.945753Z"
    }
   },
   "source": [
    "from models.image_classification.vanilla_vit import ViT\n",
    "from models.image_classification.swin_transformer import SwinTransformer\n",
    "\n",
    "# Loading Data\n",
    "from utils.load_data import get_train_test_loaders\n",
    "from utils.args import get_args\n",
    "\n",
    "# PyTorch\n",
    "import torch\n",
    "import torch.nn as nn\n",
    "\n",
    "# Visualization\n",
    "from utils.visualization import plot_patches\n",
    "from utils.visualization import plot_attention_maps\n",
    "import matplotlib.pyplot as plt\n",
    "import seaborn as sns"
   ],
   "outputs": [],
   "execution_count": 2
  },
  {
   "metadata": {
    "ExecuteTime": {
     "end_time": "2024-05-27T22:56:46.895277Z",
     "start_time": "2024-05-27T22:56:46.893940Z"
    }
   },
   "cell_type": "code",
   "source": "",
   "id": "c50fca9b38e558c4",
   "outputs": [],
   "execution_count": 2
  },
  {
   "metadata": {
    "ExecuteTime": {
     "end_time": "2024-05-27T22:56:46.896703Z",
     "start_time": "2024-05-27T22:56:46.895689Z"
    }
   },
   "cell_type": "code",
   "source": "",
   "id": "498033cb286307d8",
   "outputs": [],
   "execution_count": 2
  },
  {
   "metadata": {
    "ExecuteTime": {
     "end_time": "2024-05-27T22:56:46.898329Z",
     "start_time": "2024-05-27T22:56:46.897329Z"
    }
   },
   "cell_type": "code",
   "source": "",
   "id": "a4c030b117ece3e",
   "outputs": [],
   "execution_count": 2
  },
  {
   "metadata": {
    "ExecuteTime": {
     "end_time": "2024-05-27T22:56:46.899860Z",
     "start_time": "2024-05-27T22:56:46.898765Z"
    }
   },
   "cell_type": "code",
   "source": "",
   "id": "2e5d9c162491c103",
   "outputs": [],
   "execution_count": 2
  },
  {
   "metadata": {
    "ExecuteTime": {
     "end_time": "2024-05-27T22:56:46.901253Z",
     "start_time": "2024-05-27T22:56:46.900263Z"
    }
   },
   "cell_type": "code",
   "source": "",
   "id": "bb930d9c747ddcf9",
   "outputs": [],
   "execution_count": 2
  },
  {
   "metadata": {
    "ExecuteTime": {
     "end_time": "2024-05-27T22:56:46.902730Z",
     "start_time": "2024-05-27T22:56:46.901628Z"
    }
   },
   "cell_type": "code",
   "source": "",
   "id": "d120cae0d18c9d45",
   "outputs": [],
   "execution_count": 2
  },
  {
   "metadata": {
    "ExecuteTime": {
     "end_time": "2024-05-27T22:56:46.904150Z",
     "start_time": "2024-05-27T22:56:46.903151Z"
    }
   },
   "cell_type": "code",
   "source": "",
   "id": "42d770696955e5d8",
   "outputs": [],
   "execution_count": 2
  },
  {
   "metadata": {
    "ExecuteTime": {
     "end_time": "2024-05-27T22:56:46.905522Z",
     "start_time": "2024-05-27T22:56:46.904537Z"
    }
   },
   "cell_type": "code",
   "source": "",
   "id": "fe8bef393b9d5807",
   "outputs": [],
   "execution_count": 2
  },
  {
   "metadata": {
    "ExecuteTime": {
     "end_time": "2024-05-27T22:56:46.907508Z",
     "start_time": "2024-05-27T22:56:46.906471Z"
    }
   },
   "cell_type": "code",
   "source": "",
   "id": "b4209ee432fbb8de",
   "outputs": [],
   "execution_count": 2
  },
  {
   "metadata": {},
   "cell_type": "markdown",
   "source": "# Swin Transformer",
   "id": "3dc95be8394a80c8"
  },
  {
   "metadata": {
    "ExecuteTime": {
     "end_time": "2024-05-27T22:56:47.975681Z",
     "start_time": "2024-05-27T22:56:46.907899Z"
    }
   },
   "cell_type": "code",
   "source": "train_loader, val_loader, test_loader = get_train_test_loaders(dataset_name=\"cifar100\", batch_size=256, val_split=0.2, num_workers=4)",
   "id": "12a1aa9f007f4e81",
   "outputs": [
    {
     "name": "stdout",
     "output_type": "stream",
     "text": [
      "Files already downloaded and verified\n",
      "Files already downloaded and verified\n"
     ]
    }
   ],
   "execution_count": 3
  },
  {
   "metadata": {
    "jupyter": {
     "is_executing": true
    },
    "ExecuteTime": {
     "start_time": "2024-05-27T22:56:47.976214Z"
    }
   },
   "cell_type": "code",
   "source": [
    "args = get_args(\"swin_tiny_cifar100\")\n",
    "swin_tiny = SwinTransformer(patch_size=args[\"patch_size\"], embed_dim=args[\"embed_dim\"], depths=args[\"depths\"], \n",
    "                            num_heads=args[\"num_heads\"], window_size=args[\"window_size\"], mlp_ratio=args[\"mlp_ratio\"],\n",
    "                            dropout=args[\"dropout\"], attention_dropout=args[\"attention_dropout\"], stochastic_depth_prob=args[\"stochastic_depth_prob\"], num_classes=args[\"num_classes\"])\n",
    "\n",
    "# swin_tiny.to(\"cpu\")\n",
    "# for images, labels in train_loader:\n",
    "#     images = images.to(\"cpu\")\n",
    "#     labels = labels.to(\"cpu\")\n",
    "#     outputs = swin_tiny(images)\n",
    "#     break\n",
    "\n",
    "swin_tiny.to(\"cuda\")\n",
    "metrics = swin_tiny.train_model(swin_tiny, train_loader, test_loader, 50, val_loader)"
   ],
   "id": "25fc6ceb207ef6b6",
   "outputs": [
    {
     "name": "stderr",
     "output_type": "stream",
     "text": [
      "Epoch 1/50: 100%|██████████| 157/157 [00:09<00:00, 15.87batch/s, Train Loss=4.14, Train Acc=0.0669]\n"
     ]
    },
    {
     "name": "stdout",
     "output_type": "stream",
     "text": [
      "Epoch 1/50 - Train Loss: 4.1374, Train Acc: 0.0669, Val Loss: 3.8700868843078613, Val Acc: 0.1007, Test Loss: 3.9174, Test Acc: 0.0910\n"
     ]
    },
    {
     "name": "stderr",
     "output_type": "stream",
     "text": [
      "Epoch 2/50: 100%|██████████| 157/157 [00:09<00:00, 16.13batch/s, Train Loss=3.75, Train Acc=0.119]\n"
     ]
    },
    {
     "name": "stdout",
     "output_type": "stream",
     "text": [
      "Epoch 2/50 - Train Loss: 3.7463, Train Acc: 0.1191, Val Loss: 3.590481332397461, Val Acc: 0.1499, Test Loss: 3.5889, Test Acc: 0.1504\n"
     ]
    },
    {
     "name": "stderr",
     "output_type": "stream",
     "text": [
      "Epoch 3/50: 100%|██████████| 157/157 [00:09<00:00, 15.82batch/s, Train Loss=3.5, Train Acc=0.165] \n"
     ]
    },
    {
     "name": "stdout",
     "output_type": "stream",
     "text": [
      "Epoch 3/50 - Train Loss: 3.4976, Train Acc: 0.1653, Val Loss: 3.357745849990845, Val Acc: 0.1892, Test Loss: 3.3568, Test Acc: 0.1891\n"
     ]
    },
    {
     "name": "stderr",
     "output_type": "stream",
     "text": [
      "Epoch 4/50: 100%|██████████| 157/157 [00:09<00:00, 15.92batch/s, Train Loss=3.28, Train Acc=0.202]\n"
     ]
    },
    {
     "name": "stdout",
     "output_type": "stream",
     "text": [
      "Epoch 4/50 - Train Loss: 3.2772, Train Acc: 0.2017, Val Loss: 3.163640968322754, Val Acc: 0.2237, Test Loss: 3.1311, Test Acc: 0.2349\n"
     ]
    },
    {
     "name": "stderr",
     "output_type": "stream",
     "text": [
      "Epoch 5/50: 100%|██████████| 157/157 [00:09<00:00, 15.88batch/s, Train Loss=3.09, Train Acc=0.235]\n"
     ]
    },
    {
     "name": "stdout",
     "output_type": "stream",
     "text": [
      "Epoch 5/50 - Train Loss: 3.0875, Train Acc: 0.2352, Val Loss: 3.0286095443725585, Val Acc: 0.242, Test Loss: 2.9860, Test Acc: 0.2577\n"
     ]
    },
    {
     "name": "stderr",
     "output_type": "stream",
     "text": [
      "Epoch 6/50:  13%|█▎        | 21/157 [00:01<00:08, 16.75batch/s, Train Loss=2.99, Train Acc=0.256]"
     ]
    }
   ],
   "execution_count": null
  },
  {
   "metadata": {
    "jupyter": {
     "is_executing": true
    }
   },
   "cell_type": "code",
   "source": "",
   "id": "8e070d604fc07bc4",
   "outputs": [],
   "execution_count": null
  },
  {
   "metadata": {},
   "cell_type": "markdown",
   "source": "# Vanilla ViT",
   "id": "9bb7f592e3e93c3e"
  },
  {
   "metadata": {
    "jupyter": {
     "is_executing": true
    }
   },
   "cell_type": "code",
   "source": "train_loader, val_loader, test_loader = get_train_test_loaders(dataset_name=\"cifar100\", batch_size=256, val_split=0.2, num_workers=4)",
   "id": "db7ceb9c322bd4d6",
   "outputs": [],
   "execution_count": null
  },
  {
   "metadata": {
    "jupyter": {
     "is_executing": true
    }
   },
   "cell_type": "code",
   "source": [
    "args = get_args(\"vit_tiny_cifar100\")\n",
    "vanilla_vit = ViT(image_size=args[\"image_size\"], patch_size=args[\"patch_size\"], num_layers=args[\"num_layers\"], \n",
    "                  num_heads=args[\"num_heads\"], hidden_dim=args[\"hidden_dim\"], mlp_dim=args[\"mlp_dim\"], \n",
    "                  dropout=args[\"dropout\"], attention_dropout=args[\"attention_dropout\"], num_classes=args[\"num_classes\"])\n",
    "\n",
    "# vanilla_vit.to(\"cpu\")\n",
    "# for images, labels in train_loader:\n",
    "#     images = images.to(\"cpu\")\n",
    "#     labels = labels.to(\"cpu\")\n",
    "#     output = vanilla_vit(images)\n",
    "#     break\n",
    "\n",
    "vanilla_vit.to(\"cuda\")\n",
    "metrics = vanilla_vit.train_model(vanilla_vit, train_loader, test_loader, 50, val_loader)"
   ],
   "id": "7ddfc79dd2917555",
   "outputs": [],
   "execution_count": null
  },
  {
   "metadata": {
    "jupyter": {
     "is_executing": true
    }
   },
   "cell_type": "code",
   "source": "",
   "id": "5da5188d1ce7f5d7",
   "outputs": [],
   "execution_count": null
  },
  {
   "metadata": {
    "jupyter": {
     "is_executing": true
    }
   },
   "cell_type": "code",
   "source": "",
   "id": "d44a5f3b368a73f9",
   "outputs": [],
   "execution_count": null
  },
  {
   "metadata": {
    "jupyter": {
     "is_executing": true
    }
   },
   "cell_type": "code",
   "source": "",
   "id": "832ea4c69d07dfe3",
   "outputs": [],
   "execution_count": null
  },
  {
   "metadata": {
    "jupyter": {
     "is_executing": true
    }
   },
   "cell_type": "code",
   "source": "",
   "id": "bc68084a1479500d",
   "outputs": [],
   "execution_count": null
  },
  {
   "metadata": {
    "jupyter": {
     "is_executing": true
    }
   },
   "cell_type": "code",
   "source": "",
   "id": "378210ca30b37a1b",
   "outputs": [],
   "execution_count": null
  },
  {
   "metadata": {
    "jupyter": {
     "is_executing": true
    }
   },
   "cell_type": "code",
   "source": "",
   "id": "4f8e1be4d4bf6ee7",
   "outputs": [],
   "execution_count": null
  },
  {
   "metadata": {
    "jupyter": {
     "is_executing": true
    }
   },
   "cell_type": "code",
   "source": "",
   "id": "adfda57b0131429e",
   "outputs": [],
   "execution_count": null
  }
 ],
 "metadata": {
  "kernelspec": {
   "display_name": "Python 3 (ipykernel)",
   "language": "python",
   "name": "python3"
  },
  "language_info": {
   "codemirror_mode": {
    "name": "ipython",
    "version": 2
   },
   "file_extension": ".py",
   "mimetype": "text/x-python",
   "name": "python",
   "nbconvert_exporter": "python",
   "pygments_lexer": "ipython2",
   "version": "2.7.6"
  }
 },
 "nbformat": 4,
 "nbformat_minor": 5
}
