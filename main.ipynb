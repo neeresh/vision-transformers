{
 "cells": [
  {
   "cell_type": "code",
   "id": "initial_id",
   "metadata": {
    "collapsed": true,
    "ExecuteTime": {
     "end_time": "2024-05-27T22:56:46.893130Z",
     "start_time": "2024-05-27T22:56:45.945753Z"
    }
   },
   "source": [
    "from models.image_classification.vanilla_vit import ViT\n",
    "from models.image_classification.swin_transformer import SwinTransformer\n",
    "\n",
    "# Loading Data\n",
    "from utils.load_data import get_train_test_loaders\n",
    "from utils.args import get_args\n",
    "\n",
    "# PyTorch\n",
    "import torch\n",
    "import torch.nn as nn\n",
    "\n",
    "# Visualization\n",
    "from utils.visualization import plot_patches\n",
    "from utils.visualization import plot_attention_maps\n",
    "import matplotlib.pyplot as plt\n",
    "import seaborn as sns"
   ],
   "outputs": [],
   "execution_count": 2
  },
  {
   "metadata": {
    "ExecuteTime": {
     "end_time": "2024-05-27T22:56:46.895277Z",
     "start_time": "2024-05-27T22:56:46.893940Z"
    }
   },
   "cell_type": "code",
   "source": "",
   "id": "c50fca9b38e558c4",
   "outputs": [],
   "execution_count": 2
  },
  {
   "metadata": {
    "ExecuteTime": {
     "end_time": "2024-05-27T22:56:46.896703Z",
     "start_time": "2024-05-27T22:56:46.895689Z"
    }
   },
   "cell_type": "code",
   "source": "",
   "id": "498033cb286307d8",
   "outputs": [],
   "execution_count": 2
  },
  {
   "metadata": {
    "ExecuteTime": {
     "end_time": "2024-05-27T22:56:46.898329Z",
     "start_time": "2024-05-27T22:56:46.897329Z"
    }
   },
   "cell_type": "code",
   "source": "",
   "id": "a4c030b117ece3e",
   "outputs": [],
   "execution_count": 2
  },
  {
   "metadata": {
    "ExecuteTime": {
     "end_time": "2024-05-27T22:56:46.899860Z",
     "start_time": "2024-05-27T22:56:46.898765Z"
    }
   },
   "cell_type": "code",
   "source": "",
   "id": "2e5d9c162491c103",
   "outputs": [],
   "execution_count": 2
  },
  {
   "metadata": {
    "ExecuteTime": {
     "end_time": "2024-05-27T22:56:46.901253Z",
     "start_time": "2024-05-27T22:56:46.900263Z"
    }
   },
   "cell_type": "code",
   "source": "",
   "id": "bb930d9c747ddcf9",
   "outputs": [],
   "execution_count": 2
  },
  {
   "metadata": {
    "ExecuteTime": {
     "end_time": "2024-05-27T22:56:46.902730Z",
     "start_time": "2024-05-27T22:56:46.901628Z"
    }
   },
   "cell_type": "code",
   "source": "",
   "id": "d120cae0d18c9d45",
   "outputs": [],
   "execution_count": 2
  },
  {
   "metadata": {
    "ExecuteTime": {
     "end_time": "2024-05-27T22:56:46.904150Z",
     "start_time": "2024-05-27T22:56:46.903151Z"
    }
   },
   "cell_type": "code",
   "source": "",
   "id": "42d770696955e5d8",
   "outputs": [],
   "execution_count": 2
  },
  {
   "metadata": {
    "ExecuteTime": {
     "end_time": "2024-05-27T22:56:46.905522Z",
     "start_time": "2024-05-27T22:56:46.904537Z"
    }
   },
   "cell_type": "code",
   "source": "",
   "id": "fe8bef393b9d5807",
   "outputs": [],
   "execution_count": 2
  },
  {
   "metadata": {
    "ExecuteTime": {
     "end_time": "2024-05-27T22:56:46.907508Z",
     "start_time": "2024-05-27T22:56:46.906471Z"
    }
   },
   "cell_type": "code",
   "source": "",
   "id": "b4209ee432fbb8de",
   "outputs": [],
   "execution_count": 2
  },
  {
   "metadata": {},
   "cell_type": "markdown",
   "source": "# Swin Transformer",
   "id": "3dc95be8394a80c8"
  },
  {
   "metadata": {
    "ExecuteTime": {
     "end_time": "2024-05-27T22:56:47.975681Z",
     "start_time": "2024-05-27T22:56:46.907899Z"
    }
   },
   "cell_type": "code",
   "source": "train_loader, val_loader, test_loader = get_train_test_loaders(dataset_name=\"cifar100\", batch_size=256, val_split=0.2, num_workers=4)",
   "id": "12a1aa9f007f4e81",
   "outputs": [
    {
     "name": "stdout",
     "output_type": "stream",
     "text": [
      "Files already downloaded and verified\n",
      "Files already downloaded and verified\n"
     ]
    }
   ],
   "execution_count": 3
  },
  {
   "metadata": {
    "ExecuteTime": {
     "end_time": "2024-05-27T23:07:19.742420Z",
     "start_time": "2024-05-27T22:56:47.976214Z"
    }
   },
   "cell_type": "code",
   "source": [
    "args = get_args(\"swin_tiny_cifar100\")\n",
    "swin_tiny = SwinTransformer(patch_size=args[\"patch_size\"], embed_dim=args[\"embed_dim\"], depths=args[\"depths\"], \n",
    "                            num_heads=args[\"num_heads\"], window_size=args[\"window_size\"], mlp_ratio=args[\"mlp_ratio\"],\n",
    "                            dropout=args[\"dropout\"], attention_dropout=args[\"attention_dropout\"], stochastic_depth_prob=args[\"stochastic_depth_prob\"], num_classes=args[\"num_classes\"])\n",
    "\n",
    "# swin_tiny.to(\"cpu\")\n",
    "# for images, labels in train_loader:\n",
    "#     images = images.to(\"cpu\")\n",
    "#     labels = labels.to(\"cpu\")\n",
    "#     outputs = swin_tiny(images)\n",
    "#     break\n",
    "\n",
    "swin_tiny.to(\"cuda\")\n",
    "metrics = swin_tiny.train_model(swin_tiny, train_loader, test_loader, 50, val_loader)"
   ],
   "id": "25fc6ceb207ef6b6",
   "outputs": [
    {
     "name": "stderr",
     "output_type": "stream",
     "text": [
      "Epoch 1/50: 100%|██████████| 157/157 [00:09<00:00, 15.87batch/s, Train Loss=4.14, Train Acc=0.0669]\n"
     ]
    },
    {
     "name": "stdout",
     "output_type": "stream",
     "text": [
      "Epoch 1/50 - Train Loss: 4.1374, Train Acc: 0.0669, Val Loss: 3.8700868843078613, Val Acc: 0.1007, Test Loss: 3.9174, Test Acc: 0.0910\n"
     ]
    },
    {
     "name": "stderr",
     "output_type": "stream",
     "text": [
      "Epoch 2/50: 100%|██████████| 157/157 [00:09<00:00, 16.13batch/s, Train Loss=3.75, Train Acc=0.119]\n"
     ]
    },
    {
     "name": "stdout",
     "output_type": "stream",
     "text": [
      "Epoch 2/50 - Train Loss: 3.7463, Train Acc: 0.1191, Val Loss: 3.590481332397461, Val Acc: 0.1499, Test Loss: 3.5889, Test Acc: 0.1504\n"
     ]
    },
    {
     "name": "stderr",
     "output_type": "stream",
     "text": [
      "Epoch 3/50: 100%|██████████| 157/157 [00:09<00:00, 15.82batch/s, Train Loss=3.5, Train Acc=0.165] \n"
     ]
    },
    {
     "name": "stdout",
     "output_type": "stream",
     "text": [
      "Epoch 3/50 - Train Loss: 3.4976, Train Acc: 0.1653, Val Loss: 3.357745849990845, Val Acc: 0.1892, Test Loss: 3.3568, Test Acc: 0.1891\n"
     ]
    },
    {
     "name": "stderr",
     "output_type": "stream",
     "text": [
      "Epoch 4/50: 100%|██████████| 157/157 [00:09<00:00, 15.92batch/s, Train Loss=3.28, Train Acc=0.202]\n"
     ]
    },
    {
     "name": "stdout",
     "output_type": "stream",
     "text": [
      "Epoch 4/50 - Train Loss: 3.2772, Train Acc: 0.2017, Val Loss: 3.163640968322754, Val Acc: 0.2237, Test Loss: 3.1311, Test Acc: 0.2349\n"
     ]
    },
    {
     "name": "stderr",
     "output_type": "stream",
     "text": [
      "Epoch 5/50: 100%|██████████| 157/157 [00:09<00:00, 15.88batch/s, Train Loss=3.09, Train Acc=0.235]\n"
     ]
    },
    {
     "name": "stdout",
     "output_type": "stream",
     "text": [
      "Epoch 5/50 - Train Loss: 3.0875, Train Acc: 0.2352, Val Loss: 3.0286095443725585, Val Acc: 0.242, Test Loss: 2.9860, Test Acc: 0.2577\n"
     ]
    },
    {
     "name": "stderr",
     "output_type": "stream",
     "text": [
      "Epoch 6/50: 100%|██████████| 157/157 [00:09<00:00, 17.25batch/s, Train Loss=2.93, Train Acc=0.268]\n"
     ]
    },
    {
     "name": "stdout",
     "output_type": "stream",
     "text": [
      "Epoch 6/50 - Train Loss: 2.9291, Train Acc: 0.2682, Val Loss: 2.8744312770843505, Val Acc: 0.2791, Test Loss: 2.8208, Test Acc: 0.2939\n"
     ]
    },
    {
     "name": "stderr",
     "output_type": "stream",
     "text": [
      "Epoch 7/50: 100%|██████████| 157/157 [00:08<00:00, 18.98batch/s, Train Loss=2.79, Train Acc=0.292]\n"
     ]
    },
    {
     "name": "stdout",
     "output_type": "stream",
     "text": [
      "Epoch 7/50 - Train Loss: 2.7896, Train Acc: 0.2923, Val Loss: 2.749021508407593, Val Acc: 0.2996, Test Loss: 2.6852, Test Acc: 0.3141\n"
     ]
    },
    {
     "name": "stderr",
     "output_type": "stream",
     "text": [
      "Epoch 8/50: 100%|██████████| 157/157 [00:08<00:00, 18.87batch/s, Train Loss=2.67, Train Acc=0.314]\n"
     ]
    },
    {
     "name": "stdout",
     "output_type": "stream",
     "text": [
      "Epoch 8/50 - Train Loss: 2.6684, Train Acc: 0.3140, Val Loss: 2.6782952903747557, Val Acc: 0.32, Test Loss: 2.6617, Test Acc: 0.3251\n"
     ]
    },
    {
     "name": "stderr",
     "output_type": "stream",
     "text": [
      "Epoch 9/50: 100%|██████████| 157/157 [00:08<00:00, 18.73batch/s, Train Loss=2.55, Train Acc=0.343]\n"
     ]
    },
    {
     "name": "stdout",
     "output_type": "stream",
     "text": [
      "Epoch 9/50 - Train Loss: 2.5533, Train Acc: 0.3425, Val Loss: 2.598695652389526, Val Acc: 0.332, Test Loss: 2.5787, Test Acc: 0.3408\n"
     ]
    },
    {
     "name": "stderr",
     "output_type": "stream",
     "text": [
      "Epoch 10/50: 100%|██████████| 157/157 [00:08<00:00, 18.78batch/s, Train Loss=2.46, Train Acc=0.354]\n"
     ]
    },
    {
     "name": "stdout",
     "output_type": "stream",
     "text": [
      "Epoch 10/50 - Train Loss: 2.4596, Train Acc: 0.3539, Val Loss: 2.511843987464905, Val Acc: 0.3498, Test Loss: 2.4630, Test Acc: 0.3669\n"
     ]
    },
    {
     "name": "stderr",
     "output_type": "stream",
     "text": [
      "Epoch 11/50: 100%|██████████| 157/157 [00:08<00:00, 18.89batch/s, Train Loss=2.38, Train Acc=0.375]\n"
     ]
    },
    {
     "name": "stdout",
     "output_type": "stream",
     "text": [
      "Epoch 11/50 - Train Loss: 2.3776, Train Acc: 0.3752, Val Loss: 2.445685293960571, Val Acc: 0.3706, Test Loss: 2.4128, Test Acc: 0.3794\n"
     ]
    },
    {
     "name": "stderr",
     "output_type": "stream",
     "text": [
      "Epoch 12/50: 100%|██████████| 157/157 [00:08<00:00, 19.03batch/s, Train Loss=2.29, Train Acc=0.397]\n"
     ]
    },
    {
     "name": "stdout",
     "output_type": "stream",
     "text": [
      "Epoch 12/50 - Train Loss: 2.2913, Train Acc: 0.3967, Val Loss: 2.3880425716400144, Val Acc: 0.3757, Test Loss: 2.3538, Test Acc: 0.3912\n"
     ]
    },
    {
     "name": "stderr",
     "output_type": "stream",
     "text": [
      "Epoch 13/50: 100%|██████████| 157/157 [00:08<00:00, 18.86batch/s, Train Loss=2.21, Train Acc=0.414]\n"
     ]
    },
    {
     "name": "stdout",
     "output_type": "stream",
     "text": [
      "Epoch 13/50 - Train Loss: 2.2056, Train Acc: 0.4144, Val Loss: 2.354909150505066, Val Acc: 0.3862, Test Loss: 2.2893, Test Acc: 0.4056\n"
     ]
    },
    {
     "name": "stderr",
     "output_type": "stream",
     "text": [
      "Epoch 14/50: 100%|██████████| 157/157 [00:09<00:00, 16.03batch/s, Train Loss=2.14, Train Acc=0.43] \n"
     ]
    },
    {
     "name": "stdout",
     "output_type": "stream",
     "text": [
      "Epoch 14/50 - Train Loss: 2.1446, Train Acc: 0.4296, Val Loss: 2.312527601623535, Val Acc: 0.3946, Test Loss: 2.2583, Test Acc: 0.4185\n"
     ]
    },
    {
     "name": "stderr",
     "output_type": "stream",
     "text": [
      "Epoch 15/50: 100%|██████████| 157/157 [00:09<00:00, 15.93batch/s, Train Loss=2.08, Train Acc=0.44] \n"
     ]
    },
    {
     "name": "stdout",
     "output_type": "stream",
     "text": [
      "Epoch 15/50 - Train Loss: 2.0782, Train Acc: 0.4400, Val Loss: 2.2681436195373537, Val Acc: 0.4049, Test Loss: 2.2302, Test Acc: 0.4214\n"
     ]
    },
    {
     "name": "stderr",
     "output_type": "stream",
     "text": [
      "Epoch 16/50: 100%|██████████| 157/157 [00:09<00:00, 16.08batch/s, Train Loss=2.01, Train Acc=0.46] \n"
     ]
    },
    {
     "name": "stdout",
     "output_type": "stream",
     "text": [
      "Epoch 16/50 - Train Loss: 2.0122, Train Acc: 0.4598, Val Loss: 2.2126771158218386, Val Acc: 0.4234, Test Loss: 2.1623, Test Acc: 0.4354\n"
     ]
    },
    {
     "name": "stderr",
     "output_type": "stream",
     "text": [
      "Epoch 17/50: 100%|██████████| 157/157 [00:09<00:00, 15.76batch/s, Train Loss=1.95, Train Acc=0.47] \n"
     ]
    },
    {
     "name": "stdout",
     "output_type": "stream",
     "text": [
      "Epoch 17/50 - Train Loss: 1.9505, Train Acc: 0.4704, Val Loss: 2.192388672447205, Val Acc: 0.4241, Test Loss: 2.1368, Test Acc: 0.4436\n"
     ]
    },
    {
     "name": "stderr",
     "output_type": "stream",
     "text": [
      "Epoch 18/50: 100%|██████████| 157/157 [00:09<00:00, 15.81batch/s, Train Loss=1.89, Train Acc=0.485]\n"
     ]
    },
    {
     "name": "stdout",
     "output_type": "stream",
     "text": [
      "Epoch 18/50 - Train Loss: 1.8857, Train Acc: 0.4849, Val Loss: 2.1512380880355835, Val Acc: 0.4359, Test Loss: 2.0848, Test Acc: 0.4564\n"
     ]
    },
    {
     "name": "stderr",
     "output_type": "stream",
     "text": [
      "Epoch 19/50: 100%|██████████| 157/157 [00:09<00:00, 16.06batch/s, Train Loss=1.83, Train Acc=0.497]\n"
     ]
    },
    {
     "name": "stdout",
     "output_type": "stream",
     "text": [
      "Epoch 19/50 - Train Loss: 1.8350, Train Acc: 0.4969, Val Loss: 2.1179253572463987, Val Acc: 0.4447, Test Loss: 2.0736, Test Acc: 0.4574\n"
     ]
    },
    {
     "name": "stderr",
     "output_type": "stream",
     "text": [
      "Epoch 20/50: 100%|██████████| 157/157 [00:09<00:00, 16.11batch/s, Train Loss=1.77, Train Acc=0.509]\n"
     ]
    },
    {
     "name": "stdout",
     "output_type": "stream",
     "text": [
      "Epoch 20/50 - Train Loss: 1.7747, Train Acc: 0.5086, Val Loss: 2.126927498149872, Val Acc: 0.4452, Test Loss: 2.0561, Test Acc: 0.4663\n"
     ]
    },
    {
     "name": "stderr",
     "output_type": "stream",
     "text": [
      "Epoch 21/50: 100%|██████████| 157/157 [00:09<00:00, 16.57batch/s, Train Loss=1.72, Train Acc=0.523]\n"
     ]
    },
    {
     "name": "stdout",
     "output_type": "stream",
     "text": [
      "Epoch 21/50 - Train Loss: 1.7154, Train Acc: 0.5229, Val Loss: 2.0962293727874757, Val Acc: 0.4459, Test Loss: 2.0299, Test Acc: 0.4704\n"
     ]
    },
    {
     "name": "stderr",
     "output_type": "stream",
     "text": [
      "Epoch 22/50: 100%|██████████| 157/157 [00:09<00:00, 16.48batch/s, Train Loss=1.68, Train Acc=0.532]\n"
     ]
    },
    {
     "name": "stdout",
     "output_type": "stream",
     "text": [
      "Epoch 22/50 - Train Loss: 1.6779, Train Acc: 0.5322, Val Loss: 2.073568276786804, Val Acc: 0.4552, Test Loss: 2.0015, Test Acc: 0.4775\n"
     ]
    },
    {
     "name": "stderr",
     "output_type": "stream",
     "text": [
      "Epoch 23/50: 100%|██████████| 157/157 [00:09<00:00, 16.64batch/s, Train Loss=1.61, Train Acc=0.545]\n"
     ]
    },
    {
     "name": "stdout",
     "output_type": "stream",
     "text": [
      "Epoch 23/50 - Train Loss: 1.6144, Train Acc: 0.5454, Val Loss: 2.0564538892745974, Val Acc: 0.4625, Test Loss: 1.9839, Test Acc: 0.4801\n"
     ]
    },
    {
     "name": "stderr",
     "output_type": "stream",
     "text": [
      "Epoch 24/50: 100%|██████████| 157/157 [00:09<00:00, 16.44batch/s, Train Loss=1.57, Train Acc=0.56] \n"
     ]
    },
    {
     "name": "stdout",
     "output_type": "stream",
     "text": [
      "Epoch 24/50 - Train Loss: 1.5673, Train Acc: 0.5602, Val Loss: 2.0285368539810182, Val Acc: 0.4652, Test Loss: 1.9766, Test Acc: 0.4781\n"
     ]
    },
    {
     "name": "stderr",
     "output_type": "stream",
     "text": [
      "Epoch 25/50: 100%|██████████| 157/157 [00:09<00:00, 16.40batch/s, Train Loss=1.52, Train Acc=0.571]\n"
     ]
    },
    {
     "name": "stdout",
     "output_type": "stream",
     "text": [
      "Epoch 25/50 - Train Loss: 1.5224, Train Acc: 0.5706, Val Loss: 2.049406199836731, Val Acc: 0.4656, Test Loss: 1.9764, Test Acc: 0.4808\n"
     ]
    },
    {
     "name": "stderr",
     "output_type": "stream",
     "text": [
      "Epoch 26/50: 100%|██████████| 157/157 [00:09<00:00, 16.44batch/s, Train Loss=1.46, Train Acc=0.585]\n"
     ]
    },
    {
     "name": "stdout",
     "output_type": "stream",
     "text": [
      "Epoch 26/50 - Train Loss: 1.4605, Train Acc: 0.5854, Val Loss: 1.9995253231048584, Val Acc: 0.4768, Test Loss: 1.9525, Test Acc: 0.4911\n"
     ]
    },
    {
     "name": "stderr",
     "output_type": "stream",
     "text": [
      "Epoch 27/50: 100%|██████████| 157/157 [00:09<00:00, 16.54batch/s, Train Loss=1.41, Train Acc=0.598]\n"
     ]
    },
    {
     "name": "stdout",
     "output_type": "stream",
     "text": [
      "Epoch 27/50 - Train Loss: 1.4144, Train Acc: 0.5980, Val Loss: 2.0169155797958376, Val Acc: 0.4755, Test Loss: 1.9513, Test Acc: 0.4901\n"
     ]
    },
    {
     "name": "stderr",
     "output_type": "stream",
     "text": [
      "Epoch 28/50: 100%|██████████| 157/157 [00:09<00:00, 16.47batch/s, Train Loss=1.36, Train Acc=0.606]\n"
     ]
    },
    {
     "name": "stdout",
     "output_type": "stream",
     "text": [
      "Epoch 28/50 - Train Loss: 1.3635, Train Acc: 0.6057, Val Loss: 1.9864989625930787, Val Acc: 0.4838, Test Loss: 1.9235, Test Acc: 0.4991\n"
     ]
    },
    {
     "name": "stderr",
     "output_type": "stream",
     "text": [
      "Epoch 29/50: 100%|██████████| 157/157 [00:09<00:00, 16.55batch/s, Train Loss=1.32, Train Acc=0.621]\n"
     ]
    },
    {
     "name": "stdout",
     "output_type": "stream",
     "text": [
      "Epoch 29/50 - Train Loss: 1.3202, Train Acc: 0.6209, Val Loss: 1.9952221935272216, Val Acc: 0.4864, Test Loss: 1.9403, Test Acc: 0.5033\n"
     ]
    },
    {
     "name": "stderr",
     "output_type": "stream",
     "text": [
      "Epoch 30/50: 100%|██████████| 157/157 [00:09<00:00, 16.37batch/s, Train Loss=1.28, Train Acc=0.628]\n"
     ]
    },
    {
     "name": "stdout",
     "output_type": "stream",
     "text": [
      "Epoch 30/50 - Train Loss: 1.2766, Train Acc: 0.6284, Val Loss: 1.991006074333191, Val Acc: 0.4882, Test Loss: 1.9228, Test Acc: 0.4981\n"
     ]
    },
    {
     "name": "stderr",
     "output_type": "stream",
     "text": [
      "Epoch 31/50: 100%|██████████| 157/157 [00:09<00:00, 16.61batch/s, Train Loss=1.22, Train Acc=0.646]\n"
     ]
    },
    {
     "name": "stdout",
     "output_type": "stream",
     "text": [
      "Epoch 31/50 - Train Loss: 1.2197, Train Acc: 0.6456, Val Loss: 1.9738533622741699, Val Acc: 0.4933, Test Loss: 1.9255, Test Acc: 0.5032\n"
     ]
    },
    {
     "name": "stderr",
     "output_type": "stream",
     "text": [
      "Epoch 32/50: 100%|██████████| 157/157 [00:09<00:00, 16.48batch/s, Train Loss=1.17, Train Acc=0.659]\n"
     ]
    },
    {
     "name": "stdout",
     "output_type": "stream",
     "text": [
      "Epoch 32/50 - Train Loss: 1.1703, Train Acc: 0.6588, Val Loss: 1.9653173122406007, Val Acc: 0.4965, Test Loss: 1.9347, Test Acc: 0.5013\n"
     ]
    },
    {
     "name": "stderr",
     "output_type": "stream",
     "text": [
      "Epoch 33/50: 100%|██████████| 157/157 [00:09<00:00, 16.37batch/s, Train Loss=1.13, Train Acc=0.668]\n"
     ]
    },
    {
     "name": "stdout",
     "output_type": "stream",
     "text": [
      "Epoch 33/50 - Train Loss: 1.1302, Train Acc: 0.6683, Val Loss: 1.9943056964874268, Val Acc: 0.4938, Test Loss: 1.9301, Test Acc: 0.5012\n"
     ]
    },
    {
     "name": "stderr",
     "output_type": "stream",
     "text": [
      "Epoch 34/50: 100%|██████████| 157/157 [00:09<00:00, 16.56batch/s, Train Loss=1.09, Train Acc=0.678]\n"
     ]
    },
    {
     "name": "stdout",
     "output_type": "stream",
     "text": [
      "Epoch 34/50 - Train Loss: 1.0911, Train Acc: 0.6785, Val Loss: 1.9891927678108214, Val Acc: 0.498, Test Loss: 1.9325, Test Acc: 0.5101\n"
     ]
    },
    {
     "name": "stderr",
     "output_type": "stream",
     "text": [
      "Epoch 35/50: 100%|██████████| 157/157 [00:09<00:00, 16.49batch/s, Train Loss=1.04, Train Acc=0.689]\n"
     ]
    },
    {
     "name": "stdout",
     "output_type": "stream",
     "text": [
      "Epoch 35/50 - Train Loss: 1.0429, Train Acc: 0.6890, Val Loss: 1.9738528657913208, Val Acc: 0.5015, Test Loss: 1.9053, Test Acc: 0.5200\n"
     ]
    },
    {
     "name": "stderr",
     "output_type": "stream",
     "text": [
      "Epoch 36/50: 100%|██████████| 157/157 [00:09<00:00, 16.52batch/s, Train Loss=1.01, Train Acc=0.698] \n"
     ]
    },
    {
     "name": "stdout",
     "output_type": "stream",
     "text": [
      "Epoch 36/50 - Train Loss: 1.0140, Train Acc: 0.6980, Val Loss: 2.016663529396057, Val Acc: 0.497, Test Loss: 1.9462, Test Acc: 0.5136\n"
     ]
    },
    {
     "name": "stderr",
     "output_type": "stream",
     "text": [
      "Epoch 37/50: 100%|██████████| 157/157 [00:09<00:00, 16.36batch/s, Train Loss=0.957, Train Acc=0.711]\n"
     ]
    },
    {
     "name": "stdout",
     "output_type": "stream",
     "text": [
      "Epoch 37/50 - Train Loss: 0.9566, Train Acc: 0.7113, Val Loss: 2.020280399513245, Val Acc: 0.4987, Test Loss: 1.9457, Test Acc: 0.5180\n"
     ]
    },
    {
     "name": "stderr",
     "output_type": "stream",
     "text": [
      "Epoch 38/50: 100%|██████████| 157/157 [00:09<00:00, 15.89batch/s, Train Loss=0.922, Train Acc=0.728]\n"
     ]
    },
    {
     "name": "stdout",
     "output_type": "stream",
     "text": [
      "Epoch 38/50 - Train Loss: 0.9219, Train Acc: 0.7277, Val Loss: 1.9923138348579408, Val Acc: 0.503, Test Loss: 1.9441, Test Acc: 0.5168\n"
     ]
    },
    {
     "name": "stderr",
     "output_type": "stream",
     "text": [
      "Epoch 39/50: 100%|██████████| 157/157 [00:10<00:00, 15.46batch/s, Train Loss=0.877, Train Acc=0.74] \n"
     ]
    },
    {
     "name": "stdout",
     "output_type": "stream",
     "text": [
      "Epoch 39/50 - Train Loss: 0.8771, Train Acc: 0.7401, Val Loss: 2.023203289985657, Val Acc: 0.5103, Test Loss: 1.9745, Test Acc: 0.5164\n"
     ]
    },
    {
     "name": "stderr",
     "output_type": "stream",
     "text": [
      "Epoch 40/50: 100%|██████████| 157/157 [00:10<00:00, 15.07batch/s, Train Loss=0.839, Train Acc=0.749]\n"
     ]
    },
    {
     "name": "stdout",
     "output_type": "stream",
     "text": [
      "Epoch 40/50 - Train Loss: 0.8394, Train Acc: 0.7486, Val Loss: 2.025343635559082, Val Acc: 0.5152, Test Loss: 1.9588, Test Acc: 0.5233\n"
     ]
    },
    {
     "name": "stderr",
     "output_type": "stream",
     "text": [
      "Epoch 41/50: 100%|██████████| 157/157 [00:10<00:00, 15.51batch/s, Train Loss=0.798, Train Acc=0.758]\n"
     ]
    },
    {
     "name": "stdout",
     "output_type": "stream",
     "text": [
      "Epoch 41/50 - Train Loss: 0.7978, Train Acc: 0.7584, Val Loss: 2.0484245956420897, Val Acc: 0.5113, Test Loss: 1.9755, Test Acc: 0.5218\n"
     ]
    },
    {
     "name": "stderr",
     "output_type": "stream",
     "text": [
      "Epoch 42/50: 100%|██████████| 157/157 [00:09<00:00, 15.80batch/s, Train Loss=0.759, Train Acc=0.772]\n"
     ]
    },
    {
     "name": "stdout",
     "output_type": "stream",
     "text": [
      "Epoch 42/50 - Train Loss: 0.7586, Train Acc: 0.7718, Val Loss: 2.0725187448501585, Val Acc: 0.5032, Test Loss: 1.9995, Test Acc: 0.5228\n"
     ]
    },
    {
     "name": "stderr",
     "output_type": "stream",
     "text": [
      "Epoch 43/50: 100%|██████████| 157/157 [00:09<00:00, 16.20batch/s, Train Loss=0.724, Train Acc=0.782]\n"
     ]
    },
    {
     "name": "stdout",
     "output_type": "stream",
     "text": [
      "Epoch 43/50 - Train Loss: 0.7237, Train Acc: 0.7818, Val Loss: 2.0626137859344484, Val Acc: 0.5132, Test Loss: 2.0147, Test Acc: 0.5214\n"
     ]
    },
    {
     "name": "stderr",
     "output_type": "stream",
     "text": [
      "Epoch 44/50: 100%|██████████| 157/157 [00:09<00:00, 15.92batch/s, Train Loss=0.69, Train Acc=0.791] \n"
     ]
    },
    {
     "name": "stdout",
     "output_type": "stream",
     "text": [
      "Epoch 44/50 - Train Loss: 0.6897, Train Acc: 0.7906, Val Loss: 2.095225883102417, Val Acc: 0.5091, Test Loss: 2.0412, Test Acc: 0.5186\n"
     ]
    },
    {
     "name": "stderr",
     "output_type": "stream",
     "text": [
      "Epoch 45/50: 100%|██████████| 157/157 [00:09<00:00, 16.15batch/s, Train Loss=0.67, Train Acc=0.798] \n"
     ]
    },
    {
     "name": "stdout",
     "output_type": "stream",
     "text": [
      "Epoch 45/50 - Train Loss: 0.6695, Train Acc: 0.7977, Val Loss: 2.0738935705184938, Val Acc: 0.5184, Test Loss: 2.0324, Test Acc: 0.5274\n"
     ]
    },
    {
     "name": "stderr",
     "output_type": "stream",
     "text": [
      "Epoch 46/50: 100%|██████████| 157/157 [00:09<00:00, 16.20batch/s, Train Loss=0.628, Train Acc=0.808]\n"
     ]
    },
    {
     "name": "stdout",
     "output_type": "stream",
     "text": [
      "Epoch 46/50 - Train Loss: 0.6280, Train Acc: 0.8084, Val Loss: 2.142897745513916, Val Acc: 0.5052, Test Loss: 2.0812, Test Acc: 0.5177\n"
     ]
    },
    {
     "name": "stderr",
     "output_type": "stream",
     "text": [
      "Epoch 47/50: 100%|██████████| 157/157 [00:09<00:00, 15.96batch/s, Train Loss=0.605, Train Acc=0.813]\n"
     ]
    },
    {
     "name": "stdout",
     "output_type": "stream",
     "text": [
      "Epoch 47/50 - Train Loss: 0.6048, Train Acc: 0.8127, Val Loss: 2.1526739709854126, Val Acc: 0.5169, Test Loss: 2.1192, Test Acc: 0.5218\n"
     ]
    },
    {
     "name": "stderr",
     "output_type": "stream",
     "text": [
      "Epoch 48/50: 100%|██████████| 157/157 [00:09<00:00, 16.04batch/s, Train Loss=0.583, Train Acc=0.825]\n"
     ]
    },
    {
     "name": "stdout",
     "output_type": "stream",
     "text": [
      "Epoch 48/50 - Train Loss: 0.5834, Train Acc: 0.8250, Val Loss: 2.1360457399368284, Val Acc: 0.5183, Test Loss: 2.0921, Test Acc: 0.5226\n"
     ]
    },
    {
     "name": "stderr",
     "output_type": "stream",
     "text": [
      "Epoch 49/50: 100%|██████████| 157/157 [00:09<00:00, 16.15batch/s, Train Loss=0.545, Train Acc=0.834]\n"
     ]
    },
    {
     "name": "stdout",
     "output_type": "stream",
     "text": [
      "Epoch 49/50 - Train Loss: 0.5447, Train Acc: 0.8345, Val Loss: 2.1540971632003783, Val Acc: 0.5209, Test Loss: 2.1180, Test Acc: 0.5276\n"
     ]
    },
    {
     "name": "stderr",
     "output_type": "stream",
     "text": [
      "Epoch 50/50: 100%|██████████| 157/157 [00:09<00:00, 15.93batch/s, Train Loss=0.532, Train Acc=0.838]\n"
     ]
    },
    {
     "name": "stdout",
     "output_type": "stream",
     "text": [
      "Epoch 50/50 - Train Loss: 0.5316, Train Acc: 0.8377, Val Loss: 2.167020141124725, Val Acc: 0.5216, Test Loss: 2.1001, Test Acc: 0.5303\n"
     ]
    }
   ],
   "execution_count": 4
  },
  {
   "metadata": {
    "ExecuteTime": {
     "end_time": "2024-05-27T23:07:19.744604Z",
     "start_time": "2024-05-27T23:07:19.743219Z"
    }
   },
   "cell_type": "code",
   "source": "",
   "id": "8e070d604fc07bc4",
   "outputs": [],
   "execution_count": 4
  },
  {
   "metadata": {},
   "cell_type": "markdown",
   "source": "# Vanilla ViT",
   "id": "9bb7f592e3e93c3e"
  },
  {
   "metadata": {
    "ExecuteTime": {
     "end_time": "2024-05-27T23:07:20.795186Z",
     "start_time": "2024-05-27T23:07:19.745030Z"
    }
   },
   "cell_type": "code",
   "source": "train_loader, val_loader, test_loader = get_train_test_loaders(dataset_name=\"cifar100\", batch_size=256, val_split=0.2, num_workers=4)",
   "id": "db7ceb9c322bd4d6",
   "outputs": [
    {
     "name": "stdout",
     "output_type": "stream",
     "text": [
      "Files already downloaded and verified\n",
      "Files already downloaded and verified\n"
     ]
    }
   ],
   "execution_count": 5
  },
  {
   "metadata": {
    "ExecuteTime": {
     "end_time": "2024-05-27T23:16:37.073928Z",
     "start_time": "2024-05-27T23:07:20.795782Z"
    }
   },
   "cell_type": "code",
   "source": [
    "args = get_args(\"vit_tiny_cifar100\")\n",
    "vanilla_vit = ViT(image_size=args[\"image_size\"], patch_size=args[\"patch_size\"], num_layers=args[\"num_layers\"], \n",
    "                  num_heads=args[\"num_heads\"], hidden_dim=args[\"hidden_dim\"], mlp_dim=args[\"mlp_dim\"], \n",
    "                  dropout=args[\"dropout\"], attention_dropout=args[\"attention_dropout\"], num_classes=args[\"num_classes\"])\n",
    "\n",
    "# vanilla_vit.to(\"cpu\")\n",
    "# for images, labels in train_loader:\n",
    "#     images = images.to(\"cpu\")\n",
    "#     labels = labels.to(\"cpu\")\n",
    "#     output = vanilla_vit(images)\n",
    "#     break\n",
    "\n",
    "vanilla_vit.to(\"cuda\")\n",
    "metrics = vanilla_vit.train_model(vanilla_vit, train_loader, test_loader, 50, val_loader)"
   ],
   "id": "7ddfc79dd2917555",
   "outputs": [
    {
     "name": "stderr",
     "output_type": "stream",
     "text": [
      "Epoch 1/50: 100%|██████████| 157/157 [00:08<00:00, 19.33batch/s, Train Loss=4.32, Train Acc=0.0512]\n"
     ]
    },
    {
     "name": "stdout",
     "output_type": "stream",
     "text": [
      "Epoch 1/50 - Train Loss: 4.3233, Train Acc: 0.0512, Val Loss: 4.027130239868164, Val Acc: 0.0883, Test Loss: 4.0043, Test Acc: 0.0927\n"
     ]
    },
    {
     "name": "stderr",
     "output_type": "stream",
     "text": [
      "Epoch 2/50: 100%|██████████| 157/157 [00:08<00:00, 19.45batch/s, Train Loss=3.95, Train Acc=0.0936]\n"
     ]
    },
    {
     "name": "stdout",
     "output_type": "stream",
     "text": [
      "Epoch 2/50 - Train Loss: 3.9476, Train Acc: 0.0936, Val Loss: 3.776560709762573, Val Acc: 0.127, Test Loss: 3.7408, Test Acc: 0.1248\n"
     ]
    },
    {
     "name": "stderr",
     "output_type": "stream",
     "text": [
      "Epoch 3/50: 100%|██████████| 157/157 [00:08<00:00, 19.18batch/s, Train Loss=3.74, Train Acc=0.123]\n"
     ]
    },
    {
     "name": "stdout",
     "output_type": "stream",
     "text": [
      "Epoch 3/50 - Train Loss: 3.7440, Train Acc: 0.1235, Val Loss: 3.6102483081817627, Val Acc: 0.1475, Test Loss: 3.6196, Test Acc: 0.1448\n"
     ]
    },
    {
     "name": "stderr",
     "output_type": "stream",
     "text": [
      "Epoch 4/50: 100%|██████████| 157/157 [00:07<00:00, 20.32batch/s, Train Loss=3.59, Train Acc=0.148]\n"
     ]
    },
    {
     "name": "stdout",
     "output_type": "stream",
     "text": [
      "Epoch 4/50 - Train Loss: 3.5912, Train Acc: 0.1476, Val Loss: 3.478258834838867, Val Acc: 0.1732, Test Loss: 3.4771, Test Acc: 0.1700\n"
     ]
    },
    {
     "name": "stderr",
     "output_type": "stream",
     "text": [
      "Epoch 5/50: 100%|██████████| 157/157 [00:08<00:00, 19.39batch/s, Train Loss=3.47, Train Acc=0.168]\n"
     ]
    },
    {
     "name": "stdout",
     "output_type": "stream",
     "text": [
      "Epoch 5/50 - Train Loss: 3.4675, Train Acc: 0.1679, Val Loss: 3.4189225677490236, Val Acc: 0.1805, Test Loss: 3.3649, Test Acc: 0.1861\n"
     ]
    },
    {
     "name": "stderr",
     "output_type": "stream",
     "text": [
      "Epoch 6/50: 100%|██████████| 157/157 [00:08<00:00, 19.43batch/s, Train Loss=3.35, Train Acc=0.187]\n"
     ]
    },
    {
     "name": "stdout",
     "output_type": "stream",
     "text": [
      "Epoch 6/50 - Train Loss: 3.3518, Train Acc: 0.1872, Val Loss: 3.269744826126099, Val Acc: 0.2046, Test Loss: 3.2430, Test Acc: 0.2028\n"
     ]
    },
    {
     "name": "stderr",
     "output_type": "stream",
     "text": [
      "Epoch 7/50: 100%|██████████| 157/157 [00:08<00:00, 19.38batch/s, Train Loss=3.26, Train Acc=0.203]\n"
     ]
    },
    {
     "name": "stdout",
     "output_type": "stream",
     "text": [
      "Epoch 7/50 - Train Loss: 3.2571, Train Acc: 0.2033, Val Loss: 3.1714068126678465, Val Acc: 0.2278, Test Loss: 3.1123, Test Acc: 0.2296\n"
     ]
    },
    {
     "name": "stderr",
     "output_type": "stream",
     "text": [
      "Epoch 8/50: 100%|██████████| 157/157 [00:08<00:00, 19.37batch/s, Train Loss=3.16, Train Acc=0.219]\n"
     ]
    },
    {
     "name": "stdout",
     "output_type": "stream",
     "text": [
      "Epoch 8/50 - Train Loss: 3.1581, Train Acc: 0.2190, Val Loss: 3.07686237449646, Val Acc: 0.2444, Test Loss: 3.0207, Test Acc: 0.2520\n"
     ]
    },
    {
     "name": "stderr",
     "output_type": "stream",
     "text": [
      "Epoch 9/50: 100%|██████████| 157/157 [00:08<00:00, 19.24batch/s, Train Loss=3.07, Train Acc=0.24] \n"
     ]
    },
    {
     "name": "stdout",
     "output_type": "stream",
     "text": [
      "Epoch 9/50 - Train Loss: 3.0734, Train Acc: 0.2396, Val Loss: 3.000425025177002, Val Acc: 0.254, Test Loss: 2.9528, Test Acc: 0.2656\n"
     ]
    },
    {
     "name": "stderr",
     "output_type": "stream",
     "text": [
      "Epoch 10/50: 100%|██████████| 157/157 [00:08<00:00, 19.51batch/s, Train Loss=2.99, Train Acc=0.255]\n"
     ]
    },
    {
     "name": "stdout",
     "output_type": "stream",
     "text": [
      "Epoch 10/50 - Train Loss: 2.9899, Train Acc: 0.2551, Val Loss: 2.9674697891235353, Val Acc: 0.2687, Test Loss: 2.9154, Test Acc: 0.2752\n"
     ]
    },
    {
     "name": "stderr",
     "output_type": "stream",
     "text": [
      "Epoch 11/50: 100%|██████████| 157/157 [00:08<00:00, 19.52batch/s, Train Loss=2.92, Train Acc=0.265]\n"
     ]
    },
    {
     "name": "stdout",
     "output_type": "stream",
     "text": [
      "Epoch 11/50 - Train Loss: 2.9219, Train Acc: 0.2645, Val Loss: 2.8978514373779296, Val Acc: 0.277, Test Loss: 2.8021, Test Acc: 0.2945\n"
     ]
    },
    {
     "name": "stderr",
     "output_type": "stream",
     "text": [
      "Epoch 12/50: 100%|██████████| 157/157 [00:08<00:00, 19.37batch/s, Train Loss=2.86, Train Acc=0.279]\n"
     ]
    },
    {
     "name": "stdout",
     "output_type": "stream",
     "text": [
      "Epoch 12/50 - Train Loss: 2.8582, Train Acc: 0.2786, Val Loss: 2.8247986660003663, Val Acc: 0.2904, Test Loss: 2.7563, Test Acc: 0.3015\n"
     ]
    },
    {
     "name": "stderr",
     "output_type": "stream",
     "text": [
      "Epoch 13/50: 100%|██████████| 157/157 [00:08<00:00, 19.38batch/s, Train Loss=2.8, Train Acc=0.291] \n"
     ]
    },
    {
     "name": "stdout",
     "output_type": "stream",
     "text": [
      "Epoch 13/50 - Train Loss: 2.7955, Train Acc: 0.2911, Val Loss: 2.7729733825683596, Val Acc: 0.2994, Test Loss: 2.6781, Test Acc: 0.3166\n"
     ]
    },
    {
     "name": "stderr",
     "output_type": "stream",
     "text": [
      "Epoch 14/50: 100%|██████████| 157/157 [00:07<00:00, 19.64batch/s, Train Loss=2.74, Train Acc=0.3]  \n"
     ]
    },
    {
     "name": "stdout",
     "output_type": "stream",
     "text": [
      "Epoch 14/50 - Train Loss: 2.7436, Train Acc: 0.3000, Val Loss: 2.75027169380188, Val Acc: 0.3012, Test Loss: 2.6554, Test Acc: 0.3262\n"
     ]
    },
    {
     "name": "stderr",
     "output_type": "stream",
     "text": [
      "Epoch 15/50: 100%|██████████| 157/157 [00:08<00:00, 19.37batch/s, Train Loss=2.7, Train Acc=0.312] \n"
     ]
    },
    {
     "name": "stdout",
     "output_type": "stream",
     "text": [
      "Epoch 15/50 - Train Loss: 2.6963, Train Acc: 0.3120, Val Loss: 2.6972627265930176, Val Acc: 0.3144, Test Loss: 2.6139, Test Acc: 0.3326\n"
     ]
    },
    {
     "name": "stderr",
     "output_type": "stream",
     "text": [
      "Epoch 16/50: 100%|██████████| 157/157 [00:08<00:00, 19.55batch/s, Train Loss=2.65, Train Acc=0.32] \n"
     ]
    },
    {
     "name": "stdout",
     "output_type": "stream",
     "text": [
      "Epoch 16/50 - Train Loss: 2.6484, Train Acc: 0.3201, Val Loss: 2.662538771438599, Val Acc: 0.3223, Test Loss: 2.5742, Test Acc: 0.3439\n"
     ]
    },
    {
     "name": "stderr",
     "output_type": "stream",
     "text": [
      "Epoch 17/50: 100%|██████████| 157/157 [00:08<00:00, 19.40batch/s, Train Loss=2.6, Train Acc=0.33]  \n"
     ]
    },
    {
     "name": "stdout",
     "output_type": "stream",
     "text": [
      "Epoch 17/50 - Train Loss: 2.5990, Train Acc: 0.3301, Val Loss: 2.644132748413086, Val Acc: 0.3268, Test Loss: 2.5629, Test Acc: 0.3428\n"
     ]
    },
    {
     "name": "stderr",
     "output_type": "stream",
     "text": [
      "Epoch 18/50: 100%|██████████| 157/157 [00:07<00:00, 19.80batch/s, Train Loss=2.56, Train Acc=0.338]\n"
     ]
    },
    {
     "name": "stdout",
     "output_type": "stream",
     "text": [
      "Epoch 18/50 - Train Loss: 2.5581, Train Acc: 0.3384, Val Loss: 2.589485766983032, Val Acc: 0.3406, Test Loss: 2.4828, Test Acc: 0.3576\n"
     ]
    },
    {
     "name": "stderr",
     "output_type": "stream",
     "text": [
      "Epoch 19/50: 100%|██████████| 157/157 [00:08<00:00, 19.40batch/s, Train Loss=2.52, Train Acc=0.345]\n"
     ]
    },
    {
     "name": "stdout",
     "output_type": "stream",
     "text": [
      "Epoch 19/50 - Train Loss: 2.5166, Train Acc: 0.3448, Val Loss: 2.58349829788208, Val Acc: 0.3378, Test Loss: 2.4633, Test Acc: 0.3677\n"
     ]
    },
    {
     "name": "stderr",
     "output_type": "stream",
     "text": [
      "Epoch 20/50: 100%|██████████| 157/157 [00:08<00:00, 19.37batch/s, Train Loss=2.48, Train Acc=0.353]\n"
     ]
    },
    {
     "name": "stdout",
     "output_type": "stream",
     "text": [
      "Epoch 20/50 - Train Loss: 2.4778, Train Acc: 0.3534, Val Loss: 2.5347815063476564, Val Acc: 0.3464, Test Loss: 2.4127, Test Acc: 0.3721\n"
     ]
    },
    {
     "name": "stderr",
     "output_type": "stream",
     "text": [
      "Epoch 21/50: 100%|██████████| 157/157 [00:08<00:00, 19.41batch/s, Train Loss=2.45, Train Acc=0.363]\n"
     ]
    },
    {
     "name": "stdout",
     "output_type": "stream",
     "text": [
      "Epoch 21/50 - Train Loss: 2.4482, Train Acc: 0.3627, Val Loss: 2.5184477699279784, Val Acc: 0.3496, Test Loss: 2.4219, Test Acc: 0.3703\n"
     ]
    },
    {
     "name": "stderr",
     "output_type": "stream",
     "text": [
      "Epoch 22/50: 100%|██████████| 157/157 [00:08<00:00, 19.21batch/s, Train Loss=2.41, Train Acc=0.368]\n"
     ]
    },
    {
     "name": "stdout",
     "output_type": "stream",
     "text": [
      "Epoch 22/50 - Train Loss: 2.4099, Train Acc: 0.3681, Val Loss: 2.502654204559326, Val Acc: 0.3591, Test Loss: 2.3830, Test Acc: 0.3828\n"
     ]
    },
    {
     "name": "stderr",
     "output_type": "stream",
     "text": [
      "Epoch 23/50: 100%|██████████| 157/157 [00:08<00:00, 19.47batch/s, Train Loss=2.37, Train Acc=0.377]\n"
     ]
    },
    {
     "name": "stdout",
     "output_type": "stream",
     "text": [
      "Epoch 23/50 - Train Loss: 2.3717, Train Acc: 0.3771, Val Loss: 2.4858159980773924, Val Acc: 0.3646, Test Loss: 2.3857, Test Acc: 0.3830\n"
     ]
    },
    {
     "name": "stderr",
     "output_type": "stream",
     "text": [
      "Epoch 24/50: 100%|██████████| 157/157 [00:08<00:00, 19.46batch/s, Train Loss=2.33, Train Acc=0.387]\n"
     ]
    },
    {
     "name": "stdout",
     "output_type": "stream",
     "text": [
      "Epoch 24/50 - Train Loss: 2.3289, Train Acc: 0.3867, Val Loss: 2.429801902770996, Val Acc: 0.3759, Test Loss: 2.3075, Test Acc: 0.3973\n"
     ]
    },
    {
     "name": "stderr",
     "output_type": "stream",
     "text": [
      "Epoch 25/50: 100%|██████████| 157/157 [00:08<00:00, 19.29batch/s, Train Loss=2.3, Train Acc=0.394] \n"
     ]
    },
    {
     "name": "stdout",
     "output_type": "stream",
     "text": [
      "Epoch 25/50 - Train Loss: 2.3011, Train Acc: 0.3940, Val Loss: 2.4106628246307373, Val Acc: 0.3772, Test Loss: 2.2986, Test Acc: 0.4019\n"
     ]
    },
    {
     "name": "stderr",
     "output_type": "stream",
     "text": [
      "Epoch 26/50: 100%|██████████| 157/157 [00:07<00:00, 19.72batch/s, Train Loss=2.27, Train Acc=0.396]\n"
     ]
    },
    {
     "name": "stdout",
     "output_type": "stream",
     "text": [
      "Epoch 26/50 - Train Loss: 2.2697, Train Acc: 0.3960, Val Loss: 2.391634461593628, Val Acc: 0.3796, Test Loss: 2.2577, Test Acc: 0.4055\n"
     ]
    },
    {
     "name": "stderr",
     "output_type": "stream",
     "text": [
      "Epoch 27/50: 100%|██████████| 157/157 [00:08<00:00, 19.37batch/s, Train Loss=2.24, Train Acc=0.405]\n"
     ]
    },
    {
     "name": "stdout",
     "output_type": "stream",
     "text": [
      "Epoch 27/50 - Train Loss: 2.2412, Train Acc: 0.4053, Val Loss: 2.3615342136383055, Val Acc: 0.3884, Test Loss: 2.2375, Test Acc: 0.4124\n"
     ]
    },
    {
     "name": "stderr",
     "output_type": "stream",
     "text": [
      "Epoch 28/50: 100%|██████████| 157/157 [00:08<00:00, 19.39batch/s, Train Loss=2.21, Train Acc=0.408]\n"
     ]
    },
    {
     "name": "stdout",
     "output_type": "stream",
     "text": [
      "Epoch 28/50 - Train Loss: 2.2132, Train Acc: 0.4077, Val Loss: 2.3504415813446045, Val Acc: 0.3881, Test Loss: 2.2277, Test Acc: 0.4130\n"
     ]
    },
    {
     "name": "stderr",
     "output_type": "stream",
     "text": [
      "Epoch 29/50: 100%|██████████| 157/157 [00:08<00:00, 19.57batch/s, Train Loss=2.19, Train Acc=0.415]\n"
     ]
    },
    {
     "name": "stdout",
     "output_type": "stream",
     "text": [
      "Epoch 29/50 - Train Loss: 2.1877, Train Acc: 0.4146, Val Loss: 2.3408005908966065, Val Acc: 0.3864, Test Loss: 2.1984, Test Acc: 0.4198\n"
     ]
    },
    {
     "name": "stderr",
     "output_type": "stream",
     "text": [
      "Epoch 30/50: 100%|██████████| 157/157 [00:08<00:00, 19.32batch/s, Train Loss=2.15, Train Acc=0.425]\n"
     ]
    },
    {
     "name": "stdout",
     "output_type": "stream",
     "text": [
      "Epoch 30/50 - Train Loss: 2.1481, Train Acc: 0.4253, Val Loss: 2.3457112323760985, Val Acc: 0.3921, Test Loss: 2.2075, Test Acc: 0.4187\n"
     ]
    },
    {
     "name": "stderr",
     "output_type": "stream",
     "text": [
      "Epoch 31/50: 100%|██████████| 157/157 [00:08<00:00, 19.39batch/s, Train Loss=2.12, Train Acc=0.432]\n"
     ]
    },
    {
     "name": "stdout",
     "output_type": "stream",
     "text": [
      "Epoch 31/50 - Train Loss: 2.1209, Train Acc: 0.4315, Val Loss: 2.31423062210083, Val Acc: 0.4039, Test Loss: 2.1849, Test Acc: 0.4251\n"
     ]
    },
    {
     "name": "stderr",
     "output_type": "stream",
     "text": [
      "Epoch 32/50: 100%|██████████| 157/157 [00:08<00:00, 19.21batch/s, Train Loss=2.1, Train Acc=0.436]\n"
     ]
    },
    {
     "name": "stdout",
     "output_type": "stream",
     "text": [
      "Epoch 32/50 - Train Loss: 2.0968, Train Acc: 0.4358, Val Loss: 2.323720600891113, Val Acc: 0.3965, Test Loss: 2.1745, Test Acc: 0.4274\n"
     ]
    },
    {
     "name": "stderr",
     "output_type": "stream",
     "text": [
      "Epoch 33/50: 100%|██████████| 157/157 [00:08<00:00, 19.25batch/s, Train Loss=2.07, Train Acc=0.444]\n"
     ]
    },
    {
     "name": "stdout",
     "output_type": "stream",
     "text": [
      "Epoch 33/50 - Train Loss: 2.0657, Train Acc: 0.4438, Val Loss: 2.315550955581665, Val Acc: 0.4009, Test Loss: 2.1486, Test Acc: 0.4343\n"
     ]
    },
    {
     "name": "stderr",
     "output_type": "stream",
     "text": [
      "Epoch 34/50: 100%|██████████| 157/157 [00:08<00:00, 19.41batch/s, Train Loss=2.04, Train Acc=0.449]\n"
     ]
    },
    {
     "name": "stdout",
     "output_type": "stream",
     "text": [
      "Epoch 34/50 - Train Loss: 2.0353, Train Acc: 0.4493, Val Loss: 2.2835247833251953, Val Acc: 0.4085, Test Loss: 2.1464, Test Acc: 0.4364\n"
     ]
    },
    {
     "name": "stderr",
     "output_type": "stream",
     "text": [
      "Epoch 35/50: 100%|██████████| 157/157 [00:08<00:00, 19.16batch/s, Train Loss=2.01, Train Acc=0.459]\n"
     ]
    },
    {
     "name": "stdout",
     "output_type": "stream",
     "text": [
      "Epoch 35/50 - Train Loss: 2.0056, Train Acc: 0.4587, Val Loss: 2.2757040172576906, Val Acc: 0.4092, Test Loss: 2.1180, Test Acc: 0.4370\n"
     ]
    },
    {
     "name": "stderr",
     "output_type": "stream",
     "text": [
      "Epoch 36/50: 100%|██████████| 157/157 [00:08<00:00, 19.20batch/s, Train Loss=1.98, Train Acc=0.462]\n"
     ]
    },
    {
     "name": "stdout",
     "output_type": "stream",
     "text": [
      "Epoch 36/50 - Train Loss: 1.9796, Train Acc: 0.4620, Val Loss: 2.245114124298096, Val Acc: 0.4168, Test Loss: 2.1007, Test Acc: 0.4453\n"
     ]
    },
    {
     "name": "stderr",
     "output_type": "stream",
     "text": [
      "Epoch 37/50: 100%|██████████| 157/157 [00:07<00:00, 19.73batch/s, Train Loss=1.95, Train Acc=0.47] \n"
     ]
    },
    {
     "name": "stdout",
     "output_type": "stream",
     "text": [
      "Epoch 37/50 - Train Loss: 1.9550, Train Acc: 0.4696, Val Loss: 2.2283627670288086, Val Acc: 0.4269, Test Loss: 2.0938, Test Acc: 0.4525\n"
     ]
    },
    {
     "name": "stderr",
     "output_type": "stream",
     "text": [
      "Epoch 38/50: 100%|██████████| 157/157 [00:08<00:00, 19.46batch/s, Train Loss=1.93, Train Acc=0.472]\n"
     ]
    },
    {
     "name": "stdout",
     "output_type": "stream",
     "text": [
      "Epoch 38/50 - Train Loss: 1.9261, Train Acc: 0.4719, Val Loss: 2.2145382263183593, Val Acc: 0.4224, Test Loss: 2.0522, Test Acc: 0.4578\n"
     ]
    },
    {
     "name": "stderr",
     "output_type": "stream",
     "text": [
      "Epoch 39/50: 100%|██████████| 157/157 [00:08<00:00, 19.45batch/s, Train Loss=1.9, Train Acc=0.478] \n"
     ]
    },
    {
     "name": "stdout",
     "output_type": "stream",
     "text": [
      "Epoch 39/50 - Train Loss: 1.9002, Train Acc: 0.4784, Val Loss: 2.2281888427734375, Val Acc: 0.4257, Test Loss: 2.0736, Test Acc: 0.4560\n"
     ]
    },
    {
     "name": "stderr",
     "output_type": "stream",
     "text": [
      "Epoch 40/50: 100%|██████████| 157/157 [00:08<00:00, 19.37batch/s, Train Loss=1.87, Train Acc=0.486]\n"
     ]
    },
    {
     "name": "stdout",
     "output_type": "stream",
     "text": [
      "Epoch 40/50 - Train Loss: 1.8717, Train Acc: 0.4860, Val Loss: 2.193152898788452, Val Acc: 0.4314, Test Loss: 2.0512, Test Acc: 0.4558\n"
     ]
    },
    {
     "name": "stderr",
     "output_type": "stream",
     "text": [
      "Epoch 41/50: 100%|██████████| 157/157 [00:08<00:00, 19.31batch/s, Train Loss=1.86, Train Acc=0.49] \n"
     ]
    },
    {
     "name": "stdout",
     "output_type": "stream",
     "text": [
      "Epoch 41/50 - Train Loss: 1.8559, Train Acc: 0.4904, Val Loss: 2.184491583251953, Val Acc: 0.4355, Test Loss: 2.0470, Test Acc: 0.4584\n"
     ]
    },
    {
     "name": "stderr",
     "output_type": "stream",
     "text": [
      "Epoch 42/50: 100%|██████████| 157/157 [00:08<00:00, 19.41batch/s, Train Loss=1.83, Train Acc=0.495]\n"
     ]
    },
    {
     "name": "stdout",
     "output_type": "stream",
     "text": [
      "Epoch 42/50 - Train Loss: 1.8336, Train Acc: 0.4945, Val Loss: 2.165849228286743, Val Acc: 0.4378, Test Loss: 2.0287, Test Acc: 0.4708\n"
     ]
    },
    {
     "name": "stderr",
     "output_type": "stream",
     "text": [
      "Epoch 43/50: 100%|██████████| 157/157 [00:08<00:00, 19.57batch/s, Train Loss=1.81, Train Acc=0.501]\n"
     ]
    },
    {
     "name": "stdout",
     "output_type": "stream",
     "text": [
      "Epoch 43/50 - Train Loss: 1.8064, Train Acc: 0.5012, Val Loss: 2.167670506668091, Val Acc: 0.4429, Test Loss: 2.0199, Test Acc: 0.4700\n"
     ]
    },
    {
     "name": "stderr",
     "output_type": "stream",
     "text": [
      "Epoch 44/50: 100%|██████████| 157/157 [00:07<00:00, 19.87batch/s, Train Loss=1.78, Train Acc=0.508]\n"
     ]
    },
    {
     "name": "stdout",
     "output_type": "stream",
     "text": [
      "Epoch 44/50 - Train Loss: 1.7772, Train Acc: 0.5078, Val Loss: 2.1363915279388426, Val Acc: 0.4459, Test Loss: 1.9931, Test Acc: 0.4730\n"
     ]
    },
    {
     "name": "stderr",
     "output_type": "stream",
     "text": [
      "Epoch 45/50: 100%|██████████| 157/157 [00:08<00:00, 19.31batch/s, Train Loss=1.76, Train Acc=0.513]\n"
     ]
    },
    {
     "name": "stdout",
     "output_type": "stream",
     "text": [
      "Epoch 45/50 - Train Loss: 1.7579, Train Acc: 0.5130, Val Loss: 2.1342803394317627, Val Acc: 0.4442, Test Loss: 2.0091, Test Acc: 0.4718\n"
     ]
    },
    {
     "name": "stderr",
     "output_type": "stream",
     "text": [
      "Epoch 46/50: 100%|██████████| 157/157 [00:08<00:00, 19.36batch/s, Train Loss=1.73, Train Acc=0.522]\n"
     ]
    },
    {
     "name": "stdout",
     "output_type": "stream",
     "text": [
      "Epoch 46/50 - Train Loss: 1.7256, Train Acc: 0.5218, Val Loss: 2.1172440505981447, Val Acc: 0.4456, Test Loss: 1.9824, Test Acc: 0.4767\n"
     ]
    },
    {
     "name": "stderr",
     "output_type": "stream",
     "text": [
      "Epoch 47/50: 100%|██████████| 157/157 [00:08<00:00, 19.35batch/s, Train Loss=1.71, Train Acc=0.524]\n"
     ]
    },
    {
     "name": "stdout",
     "output_type": "stream",
     "text": [
      "Epoch 47/50 - Train Loss: 1.7090, Train Acc: 0.5238, Val Loss: 2.1189163566589357, Val Acc: 0.4491, Test Loss: 1.9872, Test Acc: 0.4806\n"
     ]
    },
    {
     "name": "stderr",
     "output_type": "stream",
     "text": [
      "Epoch 48/50: 100%|██████████| 157/157 [00:08<00:00, 19.39batch/s, Train Loss=1.69, Train Acc=0.529]\n"
     ]
    },
    {
     "name": "stdout",
     "output_type": "stream",
     "text": [
      "Epoch 48/50 - Train Loss: 1.6898, Train Acc: 0.5293, Val Loss: 2.1402546253204346, Val Acc: 0.4454, Test Loss: 2.0009, Test Acc: 0.4726\n"
     ]
    },
    {
     "name": "stderr",
     "output_type": "stream",
     "text": [
      "Epoch 49/50: 100%|██████████| 157/157 [00:08<00:00, 19.35batch/s, Train Loss=1.66, Train Acc=0.533]\n"
     ]
    },
    {
     "name": "stdout",
     "output_type": "stream",
     "text": [
      "Epoch 49/50 - Train Loss: 1.6608, Train Acc: 0.5328, Val Loss: 2.119636781692505, Val Acc: 0.4444, Test Loss: 1.9795, Test Acc: 0.4837\n"
     ]
    },
    {
     "name": "stderr",
     "output_type": "stream",
     "text": [
      "Epoch 50/50: 100%|██████████| 157/157 [00:08<00:00, 19.36batch/s, Train Loss=1.64, Train Acc=0.543]\n"
     ]
    },
    {
     "name": "stdout",
     "output_type": "stream",
     "text": [
      "Epoch 50/50 - Train Loss: 1.6391, Train Acc: 0.5430, Val Loss: 2.135948092651367, Val Acc: 0.4522, Test Loss: 1.9933, Test Acc: 0.4788\n"
     ]
    }
   ],
   "execution_count": 6
  },
  {
   "metadata": {
    "ExecuteTime": {
     "end_time": "2024-05-27T23:16:37.076488Z",
     "start_time": "2024-05-27T23:16:37.074887Z"
    }
   },
   "cell_type": "code",
   "source": "",
   "id": "5da5188d1ce7f5d7",
   "outputs": [],
   "execution_count": 6
  },
  {
   "metadata": {
    "ExecuteTime": {
     "end_time": "2024-05-27T23:16:37.078303Z",
     "start_time": "2024-05-27T23:16:37.076984Z"
    }
   },
   "cell_type": "code",
   "source": "",
   "id": "d44a5f3b368a73f9",
   "outputs": [],
   "execution_count": 6
  },
  {
   "metadata": {
    "ExecuteTime": {
     "end_time": "2024-05-27T23:16:37.080024Z",
     "start_time": "2024-05-27T23:16:37.078866Z"
    }
   },
   "cell_type": "code",
   "source": "",
   "id": "832ea4c69d07dfe3",
   "outputs": [],
   "execution_count": 6
  },
  {
   "metadata": {
    "ExecuteTime": {
     "end_time": "2024-05-27T23:16:37.081682Z",
     "start_time": "2024-05-27T23:16:37.080579Z"
    }
   },
   "cell_type": "code",
   "source": "",
   "id": "bc68084a1479500d",
   "outputs": [],
   "execution_count": 6
  },
  {
   "metadata": {
    "ExecuteTime": {
     "end_time": "2024-05-27T23:16:37.083374Z",
     "start_time": "2024-05-27T23:16:37.082219Z"
    }
   },
   "cell_type": "code",
   "source": "",
   "id": "378210ca30b37a1b",
   "outputs": [],
   "execution_count": 6
  },
  {
   "metadata": {
    "ExecuteTime": {
     "end_time": "2024-05-27T23:16:37.085089Z",
     "start_time": "2024-05-27T23:16:37.083940Z"
    }
   },
   "cell_type": "code",
   "source": "",
   "id": "4f8e1be4d4bf6ee7",
   "outputs": [],
   "execution_count": 6
  },
  {
   "metadata": {
    "ExecuteTime": {
     "end_time": "2024-05-27T23:16:37.086714Z",
     "start_time": "2024-05-27T23:16:37.085622Z"
    }
   },
   "cell_type": "code",
   "source": "",
   "id": "adfda57b0131429e",
   "outputs": [],
   "execution_count": 6
  }
 ],
 "metadata": {
  "kernelspec": {
   "display_name": "Python 3 (ipykernel)",
   "language": "python",
   "name": "python3"
  },
  "language_info": {
   "codemirror_mode": {
    "name": "ipython",
    "version": 2
   },
   "file_extension": ".py",
   "mimetype": "text/x-python",
   "name": "python",
   "nbconvert_exporter": "python",
   "pygments_lexer": "ipython2",
   "version": "2.7.6"
  }
 },
 "nbformat": 4,
 "nbformat_minor": 5
}
