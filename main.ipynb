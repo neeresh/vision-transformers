{
 "cells": [
  {
   "cell_type": "code",
   "id": "initial_id",
   "metadata": {
    "collapsed": true,
    "ExecuteTime": {
     "end_time": "2024-05-27T04:41:03.843108Z",
     "start_time": "2024-05-27T04:41:02.906681Z"
    }
   },
   "source": [
    "from models.image_classification.vanilla_vit import ViT\n",
    "\n",
    "# Loading Data\n",
    "from utils.load_data import get_train_test_loaders\n",
    "from utils.args import get_args\n",
    "\n",
    "# PyTorch\n",
    "import torch\n",
    "import torch.nn as nn\n",
    "\n",
    "# Visualization\n",
    "from utils.visualization import plot_patches\n",
    "import matplotlib.pyplot as plt\n",
    "import seaborn as sns"
   ],
   "outputs": [],
   "execution_count": 1
  },
  {
   "metadata": {},
   "cell_type": "markdown",
   "source": "# Getting Data",
   "id": "9bb7f592e3e93c3e"
  },
  {
   "metadata": {
    "ExecuteTime": {
     "end_time": "2024-05-27T04:41:05.266159Z",
     "start_time": "2024-05-27T04:41:03.844041Z"
    }
   },
   "cell_type": "code",
   "source": "train_loader, val_loader, test_loader = get_train_test_loaders(dataset_name=\"cifar100\", batch_size=256, val_split=0.2, num_workers=4)",
   "id": "db7ceb9c322bd4d6",
   "outputs": [
    {
     "name": "stderr",
     "output_type": "stream",
     "text": [
      "/Users/neereshkumarperla/miniconda3/envs/pytorch/lib/python3.8/site-packages/torchvision/transforms/v2/_deprecated.py:41: UserWarning: The transform `ToTensor()` is deprecated and will be removed in a future release. Instead, please use `v2.Compose([v2.ToImage(), v2.ToDtype(torch.float32, scale=True)])`.\n",
      "  warnings.warn(\n"
     ]
    },
    {
     "name": "stdout",
     "output_type": "stream",
     "text": [
      "Files already downloaded and verified\n",
      "Files already downloaded and verified\n"
     ]
    }
   ],
   "execution_count": 2
  },
  {
   "metadata": {
    "ExecuteTime": {
     "end_time": "2024-05-27T04:47:08.875750Z",
     "start_time": "2024-05-27T04:41:05.267607Z"
    }
   },
   "cell_type": "code",
   "source": [
    "args = get_args(\"vanilla_vit\")\n",
    "vanilla_vit = ViT(image_size=args[\"image_size\"], patch_size=args[\"patch_size\"], num_layers=args[\"num_layers\"], \n",
    "                  num_heads=args[\"num_heads\"], hidden_dim=args[\"hidden_dim\"], mlp_dim=args[\"mlp_dim\"], \n",
    "                  dropout=args[\"dropout\"], attention_dropout=args[\"attention_dropout\"], num_classes=args[\"num_classes\"], \n",
    "                  representation_size=args[\"representation_size\"])\n",
    "\n",
    "vanilla_vit.to(\"cpu\")\n",
    "\n",
    "for _ in range(10):\n",
    "    for images, labels in train_loader:\n",
    "        images = images.to(\"cpu\")\n",
    "        labels = labels.to(\"cpu\")\n",
    "        patches, embeddings, encoder_output, output = vanilla_vit(images)"
   ],
   "id": "7ddfc79dd2917555",
   "outputs": [],
   "execution_count": 3
  },
  {
   "metadata": {
    "ExecuteTime": {
     "end_time": "2024-05-27T04:47:08.882742Z",
     "start_time": "2024-05-27T04:47:08.878352Z"
    }
   },
   "cell_type": "code",
   "source": "",
   "id": "74de83b70b45386b",
   "outputs": [],
   "execution_count": 3
  },
  {
   "metadata": {
    "ExecuteTime": {
     "end_time": "2024-05-27T04:47:08.888817Z",
     "start_time": "2024-05-27T04:47:08.884453Z"
    }
   },
   "cell_type": "code",
   "source": "",
   "id": "8b8f46ac8f0af619",
   "outputs": [],
   "execution_count": 3
  },
  {
   "metadata": {
    "ExecuteTime": {
     "end_time": "2024-05-27T04:47:08.892576Z",
     "start_time": "2024-05-27T04:47:08.890592Z"
    }
   },
   "cell_type": "code",
   "source": "",
   "id": "8c4ff1203e0e1351",
   "outputs": [],
   "execution_count": 3
  },
  {
   "metadata": {
    "ExecuteTime": {
     "end_time": "2024-05-27T04:47:08.896200Z",
     "start_time": "2024-05-27T04:47:08.893994Z"
    }
   },
   "cell_type": "code",
   "source": "",
   "id": "352c0ef4925ebaf8",
   "outputs": [],
   "execution_count": 3
  },
  {
   "metadata": {
    "ExecuteTime": {
     "end_time": "2024-05-27T04:47:08.899437Z",
     "start_time": "2024-05-27T04:47:08.897573Z"
    }
   },
   "cell_type": "code",
   "source": "",
   "id": "4da77f244d1e2ba",
   "outputs": [],
   "execution_count": 3
  },
  {
   "metadata": {
    "ExecuteTime": {
     "end_time": "2024-05-27T04:47:08.903960Z",
     "start_time": "2024-05-27T04:47:08.902393Z"
    }
   },
   "cell_type": "code",
   "source": "",
   "id": "7a74988fd952dcfa",
   "outputs": [],
   "execution_count": 3
  },
  {
   "metadata": {
    "ExecuteTime": {
     "end_time": "2024-05-27T04:47:08.907095Z",
     "start_time": "2024-05-27T04:47:08.905156Z"
    }
   },
   "cell_type": "code",
   "source": "",
   "id": "1b6d5099f50c8de2",
   "outputs": [],
   "execution_count": 3
  },
  {
   "metadata": {
    "ExecuteTime": {
     "end_time": "2024-05-27T04:47:08.909382Z",
     "start_time": "2024-05-27T04:47:08.907832Z"
    }
   },
   "cell_type": "code",
   "source": "",
   "id": "b8622136fb3022b0",
   "outputs": [],
   "execution_count": 3
  }
 ],
 "metadata": {
  "kernelspec": {
   "display_name": "pytorch",
   "language": "python",
   "name": "pytorch"
  },
  "language_info": {
   "codemirror_mode": {
    "name": "ipython",
    "version": 2
   },
   "file_extension": ".py",
   "mimetype": "text/x-python",
   "name": "python",
   "nbconvert_exporter": "python",
   "pygments_lexer": "ipython2",
   "version": "2.7.6"
  }
 },
 "nbformat": 4,
 "nbformat_minor": 5
}
